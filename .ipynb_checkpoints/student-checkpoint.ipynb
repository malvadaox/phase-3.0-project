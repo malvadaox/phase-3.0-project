{
 "cells": [
  {
   "cell_type": "markdown",
   "metadata": {},
   "source": []
  },
  {
   "cell_type": "markdown",
   "metadata": {},
   "source": [
    "# Business Understanding"
   ]
  },
  {
   "cell_type": "markdown",
   "metadata": {},
   "source": [
    "### objective"
   ]
  },
  {
   "cell_type": "markdown",
   "metadata": {},
   "source": [
    ">The goal of this project is to build a machine learning model to predict whether a customer will \"soon\" stop doing business with SyriaTel, a telecommunications company. This prediction will help SyriaTel identify customers who are at risk of churn, allowing the company to take proactive steps to reduce customer loss and optimize their retention strategies."
   ]
  },
  {
   "cell_type": "markdown",
   "metadata": {},
   "source": [
    "### Key questions"
   ]
  },
  {
   "cell_type": "markdown",
   "metadata": {},
   "source": [
    ">What factors influence customer churn?\n",
    "\n",
    "> How can we predict churn ahead of time?\n",
    " \n",
    ">Can we classify a customer’s likelihood to churn with sufficient     accuracy? "
   ]
  },
  {
   "cell_type": "code",
   "execution_count": null,
   "metadata": {},
   "outputs": [],
   "source": []
  }
 ],
 "metadata": {
  "kernelspec": {
   "display_name": "Python (learn-env)",
   "language": "python",
   "name": "learn-env"
  },
  "language_info": {
   "codemirror_mode": {
    "name": "ipython",
    "version": 3
   },
   "file_extension": ".py",
   "mimetype": "text/x-python",
   "name": "python",
   "nbconvert_exporter": "python",
   "pygments_lexer": "ipython3",
   "version": "3.8.5"
  }
 },
 "nbformat": 4,
 "nbformat_minor": 4
}
