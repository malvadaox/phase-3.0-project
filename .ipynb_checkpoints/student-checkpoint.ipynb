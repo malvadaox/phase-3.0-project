{
 "cells": [
  {
   "cell_type": "markdown",
   "metadata": {},
   "source": [
    "# SYRIATEL CUSTOMER CHURN PROJECT"
   ]
  },
  {
   "cell_type": "markdown",
   "metadata": {
    "toc": true
   },
   "source": [
    "<h1>Table of Contents<span class=\"tocSkip\"></span></h1>\n",
    "<div class=\"toc\"><ul class=\"toc-item\"><li><span><a href=\"#SYRIATEL-CUSTOMER-CHURN-PROJECT\" data-toc-modified-id=\"SYRIATEL-CUSTOMER-CHURN-PROJECT-1\"><span class=\"toc-item-num\">1&nbsp;&nbsp;</span>SYRIATEL CUSTOMER CHURN PROJECT</a></span><ul class=\"toc-item\"><li><span><a href=\"#BUSINESS-UNDERSTANDING\" data-toc-modified-id=\"BUSINESS-UNDERSTANDING-1.1\"><span class=\"toc-item-num\">1.1&nbsp;&nbsp;</span>BUSINESS UNDERSTANDING</a></span><ul class=\"toc-item\"><li><span><a href=\"#Objective:\" data-toc-modified-id=\"Objective:-1.1.1\"><span class=\"toc-item-num\">1.1.1&nbsp;&nbsp;</span>Objective:</a></span></li><li><span><a href=\"#Key-Questions:\" data-toc-modified-id=\"Key-Questions:-1.1.2\"><span class=\"toc-item-num\">1.1.2&nbsp;&nbsp;</span>Key Questions:</a></span></li><li><span><a href=\"#Success-criteria\" data-toc-modified-id=\"Success-criteria-1.1.3\"><span class=\"toc-item-num\">1.1.3&nbsp;&nbsp;</span>Success criteria</a></span></li></ul></li><li><span><a href=\"#DATA-EXPLORATION-AND-ANALYSIS(EDA)\" data-toc-modified-id=\"DATA-EXPLORATION-AND-ANALYSIS(EDA)-1.2\"><span class=\"toc-item-num\">1.2&nbsp;&nbsp;</span>DATA EXPLORATION AND ANALYSIS(EDA)</a></span><ul class=\"toc-item\"><li><span><a href=\"#Importing-neccessary-libraries\" data-toc-modified-id=\"Importing-neccessary-libraries-1.2.1\"><span class=\"toc-item-num\">1.2.1&nbsp;&nbsp;</span>Importing neccessary libraries</a></span></li><li><span><a href=\"#Load-the-dataset\" data-toc-modified-id=\"Load-the-dataset-1.2.2\"><span class=\"toc-item-num\">1.2.2&nbsp;&nbsp;</span>Load the dataset</a></span></li><li><span><a href=\"#Analysis-of-the-data\" data-toc-modified-id=\"Analysis-of-the-data-1.2.3\"><span class=\"toc-item-num\">1.2.3&nbsp;&nbsp;</span>Analysis of the data</a></span></li></ul></li><li><span><a href=\"#DATA-CLEANING\" data-toc-modified-id=\"DATA-CLEANING-1.3\"><span class=\"toc-item-num\">1.3&nbsp;&nbsp;</span>DATA CLEANING</a></span><ul class=\"toc-item\"><li><span><a href=\"#Identifying-missing-values-and-duplicates\" data-toc-modified-id=\"Identifying-missing-values-and-duplicates-1.3.1\"><span class=\"toc-item-num\">1.3.1&nbsp;&nbsp;</span>Identifying missing values and duplicates</a></span></li><li><span><a href=\"#Handling-missing-values-and-duplictes\" data-toc-modified-id=\"Handling-missing-values-and-duplictes-1.3.2\"><span class=\"toc-item-num\">1.3.2&nbsp;&nbsp;</span>Handling missing values and duplictes</a></span></li></ul></li><li><span><a href=\"#DATA-PREPROCESSING\" data-toc-modified-id=\"DATA-PREPROCESSING-1.4\"><span class=\"toc-item-num\">1.4&nbsp;&nbsp;</span>DATA PREPROCESSING</a></span><ul class=\"toc-item\"><li><span><a href=\"#Dropping-irrelevant-columns\" data-toc-modified-id=\"Dropping-irrelevant-columns-1.4.1\"><span class=\"toc-item-num\">1.4.1&nbsp;&nbsp;</span>Dropping irrelevant columns</a></span></li><li><span><a href=\"#Encoding-the-categorical-variables\" data-toc-modified-id=\"Encoding-the-categorical-variables-1.4.2\"><span class=\"toc-item-num\">1.4.2&nbsp;&nbsp;</span>Encoding the categorical variables</a></span></li><li><span><a href=\"#DEPENDENT(y)-AND-INDEPENDENT-VARIABLES(x)\" data-toc-modified-id=\"DEPENDENT(y)-AND-INDEPENDENT-VARIABLES(x)-1.4.3\"><span class=\"toc-item-num\">1.4.3&nbsp;&nbsp;</span>DEPENDENT(y) AND INDEPENDENT VARIABLES(x)</a></span></li></ul></li><li><span><a href=\"#DATA-VISUALISATION\" data-toc-modified-id=\"DATA-VISUALISATION-1.5\"><span class=\"toc-item-num\">1.5&nbsp;&nbsp;</span>DATA VISUALISATION</a></span><ul class=\"toc-item\"><li><span><a href=\"#Churn-distribution\" data-toc-modified-id=\"Churn-distribution-1.5.1\"><span class=\"toc-item-num\">1.5.1&nbsp;&nbsp;</span>Churn distribution</a></span></li><li><span><a href=\"#Correlation-Matrix\" data-toc-modified-id=\"Correlation-Matrix-1.5.2\"><span class=\"toc-item-num\">1.5.2&nbsp;&nbsp;</span>Correlation Matrix</a></span></li><li><span><a href=\"#Box-&amp;-Whisker-plots\" data-toc-modified-id=\"Box-&amp;-Whisker-plots-1.5.3\"><span class=\"toc-item-num\">1.5.3&nbsp;&nbsp;</span>Box &amp; Whisker plots</a></span></li></ul></li><li><span><a href=\"#FEATURE-ENGINEERING\" data-toc-modified-id=\"FEATURE-ENGINEERING-1.6\"><span class=\"toc-item-num\">1.6&nbsp;&nbsp;</span>FEATURE ENGINEERING</a></span><ul class=\"toc-item\"><li><span><a href=\"#Splitting-the-data\" data-toc-modified-id=\"Splitting-the-data-1.6.1\"><span class=\"toc-item-num\">1.6.1&nbsp;&nbsp;</span>Splitting the data</a></span></li><li><span><a href=\"#Creating-new-features\" data-toc-modified-id=\"Creating-new-features-1.6.2\"><span class=\"toc-item-num\">1.6.2&nbsp;&nbsp;</span>Creating new features</a></span></li><li><span><a href=\"#One-hot-encoding\" data-toc-modified-id=\"One-hot-encoding-1.6.3\"><span class=\"toc-item-num\">1.6.3&nbsp;&nbsp;</span>One hot encoding</a></span></li><li><span><a href=\"#Scale-numerical-features\" data-toc-modified-id=\"Scale-numerical-features-1.6.4\"><span class=\"toc-item-num\">1.6.4&nbsp;&nbsp;</span>Scale numerical features</a></span></li></ul></li><li><span><a href=\"#MODELING\" data-toc-modified-id=\"MODELING-1.7\"><span class=\"toc-item-num\">1.7&nbsp;&nbsp;</span>MODELING</a></span><ul class=\"toc-item\"><li><span><a href=\"#Logistic-Regression-Model\" data-toc-modified-id=\"Logistic-Regression-Model-1.7.1\"><span class=\"toc-item-num\">1.7.1&nbsp;&nbsp;</span>Logistic Regression Model</a></span><ul class=\"toc-item\"><li><span><a href=\"#Creation-of-Linear-Regression-Model\" data-toc-modified-id=\"Creation-of-Linear-Regression-Model-1.7.1.1\"><span class=\"toc-item-num\">1.7.1.1&nbsp;&nbsp;</span>Creation of Linear Regression Model</a></span></li><li><span><a href=\"#Evaluation-of-Linear-Regression-Model\" data-toc-modified-id=\"Evaluation-of-Linear-Regression-Model-1.7.1.2\"><span class=\"toc-item-num\">1.7.1.2&nbsp;&nbsp;</span>Evaluation of Linear Regression Model</a></span></li><li><span><a href=\"#Interpretation-of-the-model\" data-toc-modified-id=\"Interpretation-of-the-model-1.7.1.3\"><span class=\"toc-item-num\">1.7.1.3&nbsp;&nbsp;</span>Interpretation of the model</a></span></li><li><span><a href=\"#Handling-data-imblance\" data-toc-modified-id=\"Handling-data-imblance-1.7.1.4\"><span class=\"toc-item-num\">1.7.1.4&nbsp;&nbsp;</span>Handling data imblance</a></span></li><li><span><a href=\"#comparison-of-the-mosel-before-and-after-SMOTE\" data-toc-modified-id=\"comparison-of-the-mosel-before-and-after-SMOTE-1.7.1.5\"><span class=\"toc-item-num\">1.7.1.5&nbsp;&nbsp;</span>comparison of the mosel before and after SMOTE</a></span></li></ul></li><li><span><a href=\"#Random-Forest-Model\" data-toc-modified-id=\"Random-Forest-Model-1.7.2\"><span class=\"toc-item-num\">1.7.2&nbsp;&nbsp;</span>Random Forest Model</a></span><ul class=\"toc-item\"><li><span><a href=\"#Evaluation-of-Random-Forest-Model\" data-toc-modified-id=\"Evaluation-of-Random-Forest-Model-1.7.2.1\"><span class=\"toc-item-num\">1.7.2.1&nbsp;&nbsp;</span>Evaluation of Random Forest Model</a></span></li><li><span><a href=\"#Interpretation-of-the-model\" data-toc-modified-id=\"Interpretation-of-the-model-1.7.2.2\"><span class=\"toc-item-num\">1.7.2.2&nbsp;&nbsp;</span>Interpretation of the model</a></span></li><li><span><a href=\"#Hyperparameter-tuning-the-random-forest\" data-toc-modified-id=\"Hyperparameter-tuning-the-random-forest-1.7.2.3\"><span class=\"toc-item-num\">1.7.2.3&nbsp;&nbsp;</span>Hyperparameter tuning the random forest</a></span></li><li><span><a href=\"#ROC-Curve\" data-toc-modified-id=\"ROC-Curve-1.7.2.4\"><span class=\"toc-item-num\">1.7.2.4&nbsp;&nbsp;</span>ROC Curve</a></span></li></ul></li></ul></li><li><span><a href=\"#FINDINGS\" data-toc-modified-id=\"FINDINGS-1.8\"><span class=\"toc-item-num\">1.8&nbsp;&nbsp;</span>FINDINGS</a></span></li><li><span><a href=\"#CONCLUSION\" data-toc-modified-id=\"CONCLUSION-1.9\"><span class=\"toc-item-num\">1.9&nbsp;&nbsp;</span>CONCLUSION</a></span></li><li><span><a href=\"#RECOMMENDATIONS\" data-toc-modified-id=\"RECOMMENDATIONS-1.10\"><span class=\"toc-item-num\">1.10&nbsp;&nbsp;</span>RECOMMENDATIONS</a></span></li></ul></li></ul></div>"
   ]
  },
  {
   "cell_type": "markdown",
   "metadata": {},
   "source": [
    "## BUSINESS UNDERSTANDING"
   ]
  },
  {
   "cell_type": "markdown",
   "metadata": {},
   "source": [
    "### Objective:"
   ]
  },
  {
   "cell_type": "markdown",
   "metadata": {},
   "source": [
    ">The goal of this project is to build a machine learning model to predict whether a customer will \"soon\" stop doing business with SyriaTel, a telecommunications company. This prediction will help SyriaTel identify customers who are at risk of churn, allowing the company to take proactive steps to reduce customer loss and optimize their retention strategies."
   ]
  },
  {
   "cell_type": "markdown",
   "metadata": {},
   "source": [
    "### Key Questions:"
   ]
  },
  {
   "cell_type": "markdown",
   "metadata": {},
   "source": [
    ">What factors influence customer churn?\n",
    "\n",
    "> How can we predict churn ahead of time?\n",
    " \n",
    ">Can we classify a customer’s likelihood to churn with sufficient     accuracy? "
   ]
  },
  {
   "cell_type": "markdown",
   "metadata": {},
   "source": [
    "### Success criteria"
   ]
  },
  {
   "cell_type": "markdown",
   "metadata": {},
   "source": [
    "> Model accuracy- be able to attain a model with high accuracy(score > 80%)"
   ]
  },
  {
   "cell_type": "markdown",
   "metadata": {},
   "source": [
    "> Model sensitivity - be able to attain a model that can correctly predict and measure how many churners we can correctly identify(score above 80%) "
   ]
  },
  {
   "cell_type": "markdown",
   "metadata": {},
   "source": [
    ">Model precision - be able correctly predict churners that actually churn(score>  80%)"
   ]
  },
  {
   "cell_type": "markdown",
   "metadata": {},
   "source": [
    "## DATA EXPLORATION AND ANALYSIS(EDA)"
   ]
  },
  {
   "cell_type": "markdown",
   "metadata": {},
   "source": [
    "DATA SOURCE : https://www.kaggle.com/datasets/becksddf/churn-in-telecoms-dataset"
   ]
  },
  {
   "cell_type": "markdown",
   "metadata": {},
   "source": [
    "### Importing neccessary libraries"
   ]
  },
  {
   "cell_type": "code",
   "execution_count": 51,
   "metadata": {
    "code_folding": []
   },
   "outputs": [],
   "source": [
    "#import the neccessary libraries\n",
    "import numpy as np\n",
    "import pandas as pd\n",
    "import seaborn as sns\n",
    "import matplotlib.pyplot as plt\n",
    "%matplotlib inline\n",
    "from sklearn.model_selection import train_test_split, GridSearchCV\n",
    "from sklearn.preprocessing import LabelEncoder, StandardScaler\n",
    "from sklearn.linear_model import LogisticRegression\n",
    "from sklearn.ensemble import RandomForestClassifier\n",
    "from sklearn.metrics import classification_report, roc_auc_score, accuracy_score, confusion_matrix\n",
    "\n"
   ]
  },
  {
   "cell_type": "markdown",
   "metadata": {},
   "source": [
    "### Load the dataset\n"
   ]
  },
  {
   "cell_type": "code",
   "execution_count": 52,
   "metadata": {},
   "outputs": [
    {
     "data": {
      "text/html": [
       "<div>\n",
       "<style scoped>\n",
       "    .dataframe tbody tr th:only-of-type {\n",
       "        vertical-align: middle;\n",
       "    }\n",
       "\n",
       "    .dataframe tbody tr th {\n",
       "        vertical-align: top;\n",
       "    }\n",
       "\n",
       "    .dataframe thead th {\n",
       "        text-align: right;\n",
       "    }\n",
       "</style>\n",
       "<table border=\"1\" class=\"dataframe\">\n",
       "  <thead>\n",
       "    <tr style=\"text-align: right;\">\n",
       "      <th></th>\n",
       "      <th>state</th>\n",
       "      <th>account length</th>\n",
       "      <th>area code</th>\n",
       "      <th>phone number</th>\n",
       "      <th>international plan</th>\n",
       "      <th>voice mail plan</th>\n",
       "      <th>number vmail messages</th>\n",
       "      <th>total day minutes</th>\n",
       "      <th>total day calls</th>\n",
       "      <th>total day charge</th>\n",
       "      <th>...</th>\n",
       "      <th>total eve calls</th>\n",
       "      <th>total eve charge</th>\n",
       "      <th>total night minutes</th>\n",
       "      <th>total night calls</th>\n",
       "      <th>total night charge</th>\n",
       "      <th>total intl minutes</th>\n",
       "      <th>total intl calls</th>\n",
       "      <th>total intl charge</th>\n",
       "      <th>customer service calls</th>\n",
       "      <th>churn</th>\n",
       "    </tr>\n",
       "  </thead>\n",
       "  <tbody>\n",
       "    <tr>\n",
       "      <th>0</th>\n",
       "      <td>KS</td>\n",
       "      <td>128</td>\n",
       "      <td>415</td>\n",
       "      <td>382-4657</td>\n",
       "      <td>no</td>\n",
       "      <td>yes</td>\n",
       "      <td>25</td>\n",
       "      <td>265.1</td>\n",
       "      <td>110</td>\n",
       "      <td>45.07</td>\n",
       "      <td>...</td>\n",
       "      <td>99</td>\n",
       "      <td>16.78</td>\n",
       "      <td>244.7</td>\n",
       "      <td>91</td>\n",
       "      <td>11.01</td>\n",
       "      <td>10.0</td>\n",
       "      <td>3</td>\n",
       "      <td>2.70</td>\n",
       "      <td>1</td>\n",
       "      <td>False</td>\n",
       "    </tr>\n",
       "    <tr>\n",
       "      <th>1</th>\n",
       "      <td>OH</td>\n",
       "      <td>107</td>\n",
       "      <td>415</td>\n",
       "      <td>371-7191</td>\n",
       "      <td>no</td>\n",
       "      <td>yes</td>\n",
       "      <td>26</td>\n",
       "      <td>161.6</td>\n",
       "      <td>123</td>\n",
       "      <td>27.47</td>\n",
       "      <td>...</td>\n",
       "      <td>103</td>\n",
       "      <td>16.62</td>\n",
       "      <td>254.4</td>\n",
       "      <td>103</td>\n",
       "      <td>11.45</td>\n",
       "      <td>13.7</td>\n",
       "      <td>3</td>\n",
       "      <td>3.70</td>\n",
       "      <td>1</td>\n",
       "      <td>False</td>\n",
       "    </tr>\n",
       "    <tr>\n",
       "      <th>2</th>\n",
       "      <td>NJ</td>\n",
       "      <td>137</td>\n",
       "      <td>415</td>\n",
       "      <td>358-1921</td>\n",
       "      <td>no</td>\n",
       "      <td>no</td>\n",
       "      <td>0</td>\n",
       "      <td>243.4</td>\n",
       "      <td>114</td>\n",
       "      <td>41.38</td>\n",
       "      <td>...</td>\n",
       "      <td>110</td>\n",
       "      <td>10.30</td>\n",
       "      <td>162.6</td>\n",
       "      <td>104</td>\n",
       "      <td>7.32</td>\n",
       "      <td>12.2</td>\n",
       "      <td>5</td>\n",
       "      <td>3.29</td>\n",
       "      <td>0</td>\n",
       "      <td>False</td>\n",
       "    </tr>\n",
       "    <tr>\n",
       "      <th>3</th>\n",
       "      <td>OH</td>\n",
       "      <td>84</td>\n",
       "      <td>408</td>\n",
       "      <td>375-9999</td>\n",
       "      <td>yes</td>\n",
       "      <td>no</td>\n",
       "      <td>0</td>\n",
       "      <td>299.4</td>\n",
       "      <td>71</td>\n",
       "      <td>50.90</td>\n",
       "      <td>...</td>\n",
       "      <td>88</td>\n",
       "      <td>5.26</td>\n",
       "      <td>196.9</td>\n",
       "      <td>89</td>\n",
       "      <td>8.86</td>\n",
       "      <td>6.6</td>\n",
       "      <td>7</td>\n",
       "      <td>1.78</td>\n",
       "      <td>2</td>\n",
       "      <td>False</td>\n",
       "    </tr>\n",
       "    <tr>\n",
       "      <th>4</th>\n",
       "      <td>OK</td>\n",
       "      <td>75</td>\n",
       "      <td>415</td>\n",
       "      <td>330-6626</td>\n",
       "      <td>yes</td>\n",
       "      <td>no</td>\n",
       "      <td>0</td>\n",
       "      <td>166.7</td>\n",
       "      <td>113</td>\n",
       "      <td>28.34</td>\n",
       "      <td>...</td>\n",
       "      <td>122</td>\n",
       "      <td>12.61</td>\n",
       "      <td>186.9</td>\n",
       "      <td>121</td>\n",
       "      <td>8.41</td>\n",
       "      <td>10.1</td>\n",
       "      <td>3</td>\n",
       "      <td>2.73</td>\n",
       "      <td>3</td>\n",
       "      <td>False</td>\n",
       "    </tr>\n",
       "    <tr>\n",
       "      <th>...</th>\n",
       "      <td>...</td>\n",
       "      <td>...</td>\n",
       "      <td>...</td>\n",
       "      <td>...</td>\n",
       "      <td>...</td>\n",
       "      <td>...</td>\n",
       "      <td>...</td>\n",
       "      <td>...</td>\n",
       "      <td>...</td>\n",
       "      <td>...</td>\n",
       "      <td>...</td>\n",
       "      <td>...</td>\n",
       "      <td>...</td>\n",
       "      <td>...</td>\n",
       "      <td>...</td>\n",
       "      <td>...</td>\n",
       "      <td>...</td>\n",
       "      <td>...</td>\n",
       "      <td>...</td>\n",
       "      <td>...</td>\n",
       "      <td>...</td>\n",
       "    </tr>\n",
       "    <tr>\n",
       "      <th>3328</th>\n",
       "      <td>AZ</td>\n",
       "      <td>192</td>\n",
       "      <td>415</td>\n",
       "      <td>414-4276</td>\n",
       "      <td>no</td>\n",
       "      <td>yes</td>\n",
       "      <td>36</td>\n",
       "      <td>156.2</td>\n",
       "      <td>77</td>\n",
       "      <td>26.55</td>\n",
       "      <td>...</td>\n",
       "      <td>126</td>\n",
       "      <td>18.32</td>\n",
       "      <td>279.1</td>\n",
       "      <td>83</td>\n",
       "      <td>12.56</td>\n",
       "      <td>9.9</td>\n",
       "      <td>6</td>\n",
       "      <td>2.67</td>\n",
       "      <td>2</td>\n",
       "      <td>False</td>\n",
       "    </tr>\n",
       "    <tr>\n",
       "      <th>3329</th>\n",
       "      <td>WV</td>\n",
       "      <td>68</td>\n",
       "      <td>415</td>\n",
       "      <td>370-3271</td>\n",
       "      <td>no</td>\n",
       "      <td>no</td>\n",
       "      <td>0</td>\n",
       "      <td>231.1</td>\n",
       "      <td>57</td>\n",
       "      <td>39.29</td>\n",
       "      <td>...</td>\n",
       "      <td>55</td>\n",
       "      <td>13.04</td>\n",
       "      <td>191.3</td>\n",
       "      <td>123</td>\n",
       "      <td>8.61</td>\n",
       "      <td>9.6</td>\n",
       "      <td>4</td>\n",
       "      <td>2.59</td>\n",
       "      <td>3</td>\n",
       "      <td>False</td>\n",
       "    </tr>\n",
       "    <tr>\n",
       "      <th>3330</th>\n",
       "      <td>RI</td>\n",
       "      <td>28</td>\n",
       "      <td>510</td>\n",
       "      <td>328-8230</td>\n",
       "      <td>no</td>\n",
       "      <td>no</td>\n",
       "      <td>0</td>\n",
       "      <td>180.8</td>\n",
       "      <td>109</td>\n",
       "      <td>30.74</td>\n",
       "      <td>...</td>\n",
       "      <td>58</td>\n",
       "      <td>24.55</td>\n",
       "      <td>191.9</td>\n",
       "      <td>91</td>\n",
       "      <td>8.64</td>\n",
       "      <td>14.1</td>\n",
       "      <td>6</td>\n",
       "      <td>3.81</td>\n",
       "      <td>2</td>\n",
       "      <td>False</td>\n",
       "    </tr>\n",
       "    <tr>\n",
       "      <th>3331</th>\n",
       "      <td>CT</td>\n",
       "      <td>184</td>\n",
       "      <td>510</td>\n",
       "      <td>364-6381</td>\n",
       "      <td>yes</td>\n",
       "      <td>no</td>\n",
       "      <td>0</td>\n",
       "      <td>213.8</td>\n",
       "      <td>105</td>\n",
       "      <td>36.35</td>\n",
       "      <td>...</td>\n",
       "      <td>84</td>\n",
       "      <td>13.57</td>\n",
       "      <td>139.2</td>\n",
       "      <td>137</td>\n",
       "      <td>6.26</td>\n",
       "      <td>5.0</td>\n",
       "      <td>10</td>\n",
       "      <td>1.35</td>\n",
       "      <td>2</td>\n",
       "      <td>False</td>\n",
       "    </tr>\n",
       "    <tr>\n",
       "      <th>3332</th>\n",
       "      <td>TN</td>\n",
       "      <td>74</td>\n",
       "      <td>415</td>\n",
       "      <td>400-4344</td>\n",
       "      <td>no</td>\n",
       "      <td>yes</td>\n",
       "      <td>25</td>\n",
       "      <td>234.4</td>\n",
       "      <td>113</td>\n",
       "      <td>39.85</td>\n",
       "      <td>...</td>\n",
       "      <td>82</td>\n",
       "      <td>22.60</td>\n",
       "      <td>241.4</td>\n",
       "      <td>77</td>\n",
       "      <td>10.86</td>\n",
       "      <td>13.7</td>\n",
       "      <td>4</td>\n",
       "      <td>3.70</td>\n",
       "      <td>0</td>\n",
       "      <td>False</td>\n",
       "    </tr>\n",
       "  </tbody>\n",
       "</table>\n",
       "<p>3333 rows × 21 columns</p>\n",
       "</div>"
      ],
      "text/plain": [
       "     state  account length  area code phone number international plan  \\\n",
       "0       KS             128        415     382-4657                 no   \n",
       "1       OH             107        415     371-7191                 no   \n",
       "2       NJ             137        415     358-1921                 no   \n",
       "3       OH              84        408     375-9999                yes   \n",
       "4       OK              75        415     330-6626                yes   \n",
       "...    ...             ...        ...          ...                ...   \n",
       "3328    AZ             192        415     414-4276                 no   \n",
       "3329    WV              68        415     370-3271                 no   \n",
       "3330    RI              28        510     328-8230                 no   \n",
       "3331    CT             184        510     364-6381                yes   \n",
       "3332    TN              74        415     400-4344                 no   \n",
       "\n",
       "     voice mail plan  number vmail messages  total day minutes  \\\n",
       "0                yes                     25              265.1   \n",
       "1                yes                     26              161.6   \n",
       "2                 no                      0              243.4   \n",
       "3                 no                      0              299.4   \n",
       "4                 no                      0              166.7   \n",
       "...              ...                    ...                ...   \n",
       "3328             yes                     36              156.2   \n",
       "3329              no                      0              231.1   \n",
       "3330              no                      0              180.8   \n",
       "3331              no                      0              213.8   \n",
       "3332             yes                     25              234.4   \n",
       "\n",
       "      total day calls  total day charge  ...  total eve calls  \\\n",
       "0                 110             45.07  ...               99   \n",
       "1                 123             27.47  ...              103   \n",
       "2                 114             41.38  ...              110   \n",
       "3                  71             50.90  ...               88   \n",
       "4                 113             28.34  ...              122   \n",
       "...               ...               ...  ...              ...   \n",
       "3328               77             26.55  ...              126   \n",
       "3329               57             39.29  ...               55   \n",
       "3330              109             30.74  ...               58   \n",
       "3331              105             36.35  ...               84   \n",
       "3332              113             39.85  ...               82   \n",
       "\n",
       "      total eve charge  total night minutes  total night calls  \\\n",
       "0                16.78                244.7                 91   \n",
       "1                16.62                254.4                103   \n",
       "2                10.30                162.6                104   \n",
       "3                 5.26                196.9                 89   \n",
       "4                12.61                186.9                121   \n",
       "...                ...                  ...                ...   \n",
       "3328             18.32                279.1                 83   \n",
       "3329             13.04                191.3                123   \n",
       "3330             24.55                191.9                 91   \n",
       "3331             13.57                139.2                137   \n",
       "3332             22.60                241.4                 77   \n",
       "\n",
       "      total night charge  total intl minutes  total intl calls  \\\n",
       "0                  11.01                10.0                 3   \n",
       "1                  11.45                13.7                 3   \n",
       "2                   7.32                12.2                 5   \n",
       "3                   8.86                 6.6                 7   \n",
       "4                   8.41                10.1                 3   \n",
       "...                  ...                 ...               ...   \n",
       "3328               12.56                 9.9                 6   \n",
       "3329                8.61                 9.6                 4   \n",
       "3330                8.64                14.1                 6   \n",
       "3331                6.26                 5.0                10   \n",
       "3332               10.86                13.7                 4   \n",
       "\n",
       "      total intl charge  customer service calls  churn  \n",
       "0                  2.70                       1  False  \n",
       "1                  3.70                       1  False  \n",
       "2                  3.29                       0  False  \n",
       "3                  1.78                       2  False  \n",
       "4                  2.73                       3  False  \n",
       "...                 ...                     ...    ...  \n",
       "3328               2.67                       2  False  \n",
       "3329               2.59                       3  False  \n",
       "3330               3.81                       2  False  \n",
       "3331               1.35                       2  False  \n",
       "3332               3.70                       0  False  \n",
       "\n",
       "[3333 rows x 21 columns]"
      ]
     },
     "execution_count": 52,
     "metadata": {},
     "output_type": "execute_result"
    }
   ],
   "source": [
    "#loading the dataset\n",
    "df= pd.read_csv(\"phase 3 data/bigml_59c28831336c6604c800002a.csv\")\n",
    "df"
   ]
  },
  {
   "cell_type": "markdown",
   "metadata": {},
   "source": [
    "### Analysis of the data"
   ]
  },
  {
   "cell_type": "code",
   "execution_count": 53,
   "metadata": {
    "code_folding": []
   },
   "outputs": [
    {
     "name": "stdout",
     "output_type": "stream",
     "text": [
      "<class 'pandas.core.frame.DataFrame'>\n",
      "RangeIndex: 3333 entries, 0 to 3332\n",
      "Data columns (total 21 columns):\n",
      " #   Column                  Non-Null Count  Dtype  \n",
      "---  ------                  --------------  -----  \n",
      " 0   state                   3333 non-null   object \n",
      " 1   account length          3333 non-null   int64  \n",
      " 2   area code               3333 non-null   int64  \n",
      " 3   phone number            3333 non-null   object \n",
      " 4   international plan      3333 non-null   object \n",
      " 5   voice mail plan         3333 non-null   object \n",
      " 6   number vmail messages   3333 non-null   int64  \n",
      " 7   total day minutes       3333 non-null   float64\n",
      " 8   total day calls         3333 non-null   int64  \n",
      " 9   total day charge        3333 non-null   float64\n",
      " 10  total eve minutes       3333 non-null   float64\n",
      " 11  total eve calls         3333 non-null   int64  \n",
      " 12  total eve charge        3333 non-null   float64\n",
      " 13  total night minutes     3333 non-null   float64\n",
      " 14  total night calls       3333 non-null   int64  \n",
      " 15  total night charge      3333 non-null   float64\n",
      " 16  total intl minutes      3333 non-null   float64\n",
      " 17  total intl calls        3333 non-null   int64  \n",
      " 18  total intl charge       3333 non-null   float64\n",
      " 19  customer service calls  3333 non-null   int64  \n",
      " 20  churn                   3333 non-null   bool   \n",
      "dtypes: bool(1), float64(8), int64(8), object(4)\n",
      "memory usage: 524.2+ KB\n"
     ]
    }
   ],
   "source": [
    "#viewing basic information about the dataset\n",
    "df.info()"
   ]
  },
  {
   "cell_type": "code",
   "execution_count": 54,
   "metadata": {},
   "outputs": [
    {
     "data": {
      "text/html": [
       "<div>\n",
       "<style scoped>\n",
       "    .dataframe tbody tr th:only-of-type {\n",
       "        vertical-align: middle;\n",
       "    }\n",
       "\n",
       "    .dataframe tbody tr th {\n",
       "        vertical-align: top;\n",
       "    }\n",
       "\n",
       "    .dataframe thead th {\n",
       "        text-align: right;\n",
       "    }\n",
       "</style>\n",
       "<table border=\"1\" class=\"dataframe\">\n",
       "  <thead>\n",
       "    <tr style=\"text-align: right;\">\n",
       "      <th></th>\n",
       "      <th>account length</th>\n",
       "      <th>area code</th>\n",
       "      <th>number vmail messages</th>\n",
       "      <th>total day minutes</th>\n",
       "      <th>total day calls</th>\n",
       "      <th>total day charge</th>\n",
       "      <th>total eve minutes</th>\n",
       "      <th>total eve calls</th>\n",
       "      <th>total eve charge</th>\n",
       "      <th>total night minutes</th>\n",
       "      <th>total night calls</th>\n",
       "      <th>total night charge</th>\n",
       "      <th>total intl minutes</th>\n",
       "      <th>total intl calls</th>\n",
       "      <th>total intl charge</th>\n",
       "      <th>customer service calls</th>\n",
       "    </tr>\n",
       "  </thead>\n",
       "  <tbody>\n",
       "    <tr>\n",
       "      <th>count</th>\n",
       "      <td>3333.000000</td>\n",
       "      <td>3333.000000</td>\n",
       "      <td>3333.000000</td>\n",
       "      <td>3333.000000</td>\n",
       "      <td>3333.000000</td>\n",
       "      <td>3333.000000</td>\n",
       "      <td>3333.000000</td>\n",
       "      <td>3333.000000</td>\n",
       "      <td>3333.000000</td>\n",
       "      <td>3333.000000</td>\n",
       "      <td>3333.000000</td>\n",
       "      <td>3333.000000</td>\n",
       "      <td>3333.000000</td>\n",
       "      <td>3333.000000</td>\n",
       "      <td>3333.000000</td>\n",
       "      <td>3333.000000</td>\n",
       "    </tr>\n",
       "    <tr>\n",
       "      <th>mean</th>\n",
       "      <td>101.064806</td>\n",
       "      <td>437.182418</td>\n",
       "      <td>8.099010</td>\n",
       "      <td>179.775098</td>\n",
       "      <td>100.435644</td>\n",
       "      <td>30.562307</td>\n",
       "      <td>200.980348</td>\n",
       "      <td>100.114311</td>\n",
       "      <td>17.083540</td>\n",
       "      <td>200.872037</td>\n",
       "      <td>100.107711</td>\n",
       "      <td>9.039325</td>\n",
       "      <td>10.237294</td>\n",
       "      <td>4.479448</td>\n",
       "      <td>2.764581</td>\n",
       "      <td>1.562856</td>\n",
       "    </tr>\n",
       "    <tr>\n",
       "      <th>std</th>\n",
       "      <td>39.822106</td>\n",
       "      <td>42.371290</td>\n",
       "      <td>13.688365</td>\n",
       "      <td>54.467389</td>\n",
       "      <td>20.069084</td>\n",
       "      <td>9.259435</td>\n",
       "      <td>50.713844</td>\n",
       "      <td>19.922625</td>\n",
       "      <td>4.310668</td>\n",
       "      <td>50.573847</td>\n",
       "      <td>19.568609</td>\n",
       "      <td>2.275873</td>\n",
       "      <td>2.791840</td>\n",
       "      <td>2.461214</td>\n",
       "      <td>0.753773</td>\n",
       "      <td>1.315491</td>\n",
       "    </tr>\n",
       "    <tr>\n",
       "      <th>min</th>\n",
       "      <td>1.000000</td>\n",
       "      <td>408.000000</td>\n",
       "      <td>0.000000</td>\n",
       "      <td>0.000000</td>\n",
       "      <td>0.000000</td>\n",
       "      <td>0.000000</td>\n",
       "      <td>0.000000</td>\n",
       "      <td>0.000000</td>\n",
       "      <td>0.000000</td>\n",
       "      <td>23.200000</td>\n",
       "      <td>33.000000</td>\n",
       "      <td>1.040000</td>\n",
       "      <td>0.000000</td>\n",
       "      <td>0.000000</td>\n",
       "      <td>0.000000</td>\n",
       "      <td>0.000000</td>\n",
       "    </tr>\n",
       "    <tr>\n",
       "      <th>25%</th>\n",
       "      <td>74.000000</td>\n",
       "      <td>408.000000</td>\n",
       "      <td>0.000000</td>\n",
       "      <td>143.700000</td>\n",
       "      <td>87.000000</td>\n",
       "      <td>24.430000</td>\n",
       "      <td>166.600000</td>\n",
       "      <td>87.000000</td>\n",
       "      <td>14.160000</td>\n",
       "      <td>167.000000</td>\n",
       "      <td>87.000000</td>\n",
       "      <td>7.520000</td>\n",
       "      <td>8.500000</td>\n",
       "      <td>3.000000</td>\n",
       "      <td>2.300000</td>\n",
       "      <td>1.000000</td>\n",
       "    </tr>\n",
       "    <tr>\n",
       "      <th>50%</th>\n",
       "      <td>101.000000</td>\n",
       "      <td>415.000000</td>\n",
       "      <td>0.000000</td>\n",
       "      <td>179.400000</td>\n",
       "      <td>101.000000</td>\n",
       "      <td>30.500000</td>\n",
       "      <td>201.400000</td>\n",
       "      <td>100.000000</td>\n",
       "      <td>17.120000</td>\n",
       "      <td>201.200000</td>\n",
       "      <td>100.000000</td>\n",
       "      <td>9.050000</td>\n",
       "      <td>10.300000</td>\n",
       "      <td>4.000000</td>\n",
       "      <td>2.780000</td>\n",
       "      <td>1.000000</td>\n",
       "    </tr>\n",
       "    <tr>\n",
       "      <th>75%</th>\n",
       "      <td>127.000000</td>\n",
       "      <td>510.000000</td>\n",
       "      <td>20.000000</td>\n",
       "      <td>216.400000</td>\n",
       "      <td>114.000000</td>\n",
       "      <td>36.790000</td>\n",
       "      <td>235.300000</td>\n",
       "      <td>114.000000</td>\n",
       "      <td>20.000000</td>\n",
       "      <td>235.300000</td>\n",
       "      <td>113.000000</td>\n",
       "      <td>10.590000</td>\n",
       "      <td>12.100000</td>\n",
       "      <td>6.000000</td>\n",
       "      <td>3.270000</td>\n",
       "      <td>2.000000</td>\n",
       "    </tr>\n",
       "    <tr>\n",
       "      <th>max</th>\n",
       "      <td>243.000000</td>\n",
       "      <td>510.000000</td>\n",
       "      <td>51.000000</td>\n",
       "      <td>350.800000</td>\n",
       "      <td>165.000000</td>\n",
       "      <td>59.640000</td>\n",
       "      <td>363.700000</td>\n",
       "      <td>170.000000</td>\n",
       "      <td>30.910000</td>\n",
       "      <td>395.000000</td>\n",
       "      <td>175.000000</td>\n",
       "      <td>17.770000</td>\n",
       "      <td>20.000000</td>\n",
       "      <td>20.000000</td>\n",
       "      <td>5.400000</td>\n",
       "      <td>9.000000</td>\n",
       "    </tr>\n",
       "  </tbody>\n",
       "</table>\n",
       "</div>"
      ],
      "text/plain": [
       "       account length    area code  number vmail messages  total day minutes  \\\n",
       "count     3333.000000  3333.000000            3333.000000        3333.000000   \n",
       "mean       101.064806   437.182418               8.099010         179.775098   \n",
       "std         39.822106    42.371290              13.688365          54.467389   \n",
       "min          1.000000   408.000000               0.000000           0.000000   \n",
       "25%         74.000000   408.000000               0.000000         143.700000   \n",
       "50%        101.000000   415.000000               0.000000         179.400000   \n",
       "75%        127.000000   510.000000              20.000000         216.400000   \n",
       "max        243.000000   510.000000              51.000000         350.800000   \n",
       "\n",
       "       total day calls  total day charge  total eve minutes  total eve calls  \\\n",
       "count      3333.000000       3333.000000        3333.000000      3333.000000   \n",
       "mean        100.435644         30.562307         200.980348       100.114311   \n",
       "std          20.069084          9.259435          50.713844        19.922625   \n",
       "min           0.000000          0.000000           0.000000         0.000000   \n",
       "25%          87.000000         24.430000         166.600000        87.000000   \n",
       "50%         101.000000         30.500000         201.400000       100.000000   \n",
       "75%         114.000000         36.790000         235.300000       114.000000   \n",
       "max         165.000000         59.640000         363.700000       170.000000   \n",
       "\n",
       "       total eve charge  total night minutes  total night calls  \\\n",
       "count       3333.000000          3333.000000        3333.000000   \n",
       "mean          17.083540           200.872037         100.107711   \n",
       "std            4.310668            50.573847          19.568609   \n",
       "min            0.000000            23.200000          33.000000   \n",
       "25%           14.160000           167.000000          87.000000   \n",
       "50%           17.120000           201.200000         100.000000   \n",
       "75%           20.000000           235.300000         113.000000   \n",
       "max           30.910000           395.000000         175.000000   \n",
       "\n",
       "       total night charge  total intl minutes  total intl calls  \\\n",
       "count         3333.000000         3333.000000       3333.000000   \n",
       "mean             9.039325           10.237294          4.479448   \n",
       "std              2.275873            2.791840          2.461214   \n",
       "min              1.040000            0.000000          0.000000   \n",
       "25%              7.520000            8.500000          3.000000   \n",
       "50%              9.050000           10.300000          4.000000   \n",
       "75%             10.590000           12.100000          6.000000   \n",
       "max             17.770000           20.000000         20.000000   \n",
       "\n",
       "       total intl charge  customer service calls  \n",
       "count        3333.000000             3333.000000  \n",
       "mean            2.764581                1.562856  \n",
       "std             0.753773                1.315491  \n",
       "min             0.000000                0.000000  \n",
       "25%             2.300000                1.000000  \n",
       "50%             2.780000                1.000000  \n",
       "75%             3.270000                2.000000  \n",
       "max             5.400000                9.000000  "
      ]
     },
     "execution_count": 54,
     "metadata": {},
     "output_type": "execute_result"
    }
   ],
   "source": [
    "#statistical analysis of the data(central measures of tendency)\n",
    "summary_stats = df.describe()\n",
    "summary_stats\n"
   ]
  },
  {
   "cell_type": "code",
   "execution_count": 55,
   "metadata": {},
   "outputs": [
    {
     "data": {
      "text/plain": [
       "Index(['state', 'account length', 'area code', 'phone number',\n",
       "       'international plan', 'voice mail plan', 'number vmail messages',\n",
       "       'total day minutes', 'total day calls', 'total day charge',\n",
       "       'total eve minutes', 'total eve calls', 'total eve charge',\n",
       "       'total night minutes', 'total night calls', 'total night charge',\n",
       "       'total intl minutes', 'total intl calls', 'total intl charge',\n",
       "       'customer service calls', 'churn'],\n",
       "      dtype='object')"
      ]
     },
     "execution_count": 55,
     "metadata": {},
     "output_type": "execute_result"
    }
   ],
   "source": [
    "#checkiing the column names\n",
    "df.columns"
   ]
  },
  {
   "cell_type": "code",
   "execution_count": 56,
   "metadata": {},
   "outputs": [
    {
     "data": {
      "text/plain": [
       "(3333, 21)"
      ]
     },
     "execution_count": 56,
     "metadata": {},
     "output_type": "execute_result"
    }
   ],
   "source": [
    "#checking the dimensions of the dataframe\n",
    "df.shape"
   ]
  },
  {
   "cell_type": "markdown",
   "metadata": {},
   "source": [
    "## DATA CLEANING"
   ]
  },
  {
   "cell_type": "markdown",
   "metadata": {},
   "source": [
    "### Identifying missing values and duplicates "
   ]
  },
  {
   "cell_type": "code",
   "execution_count": 57,
   "metadata": {},
   "outputs": [
    {
     "data": {
      "text/plain": [
       "state                     0\n",
       "account length            0\n",
       "area code                 0\n",
       "phone number              0\n",
       "international plan        0\n",
       "voice mail plan           0\n",
       "number vmail messages     0\n",
       "total day minutes         0\n",
       "total day calls           0\n",
       "total day charge          0\n",
       "total eve minutes         0\n",
       "total eve calls           0\n",
       "total eve charge          0\n",
       "total night minutes       0\n",
       "total night calls         0\n",
       "total night charge        0\n",
       "total intl minutes        0\n",
       "total intl calls          0\n",
       "total intl charge         0\n",
       "customer service calls    0\n",
       "churn                     0\n",
       "dtype: int64"
      ]
     },
     "execution_count": 57,
     "metadata": {},
     "output_type": "execute_result"
    }
   ],
   "source": [
    "#checking for the totalno. of missing value in each columns\n",
    "df.isnull().sum()"
   ]
  },
  {
   "cell_type": "code",
   "execution_count": 58,
   "metadata": {},
   "outputs": [
    {
     "data": {
      "text/plain": [
       "0"
      ]
     },
     "execution_count": 58,
     "metadata": {},
     "output_type": "execute_result"
    }
   ],
   "source": [
    "#checking for duplicates in each column \n",
    "df.duplicated().sum()"
   ]
  },
  {
   "cell_type": "markdown",
   "metadata": {},
   "source": [
    "### Handling missing values and duplictes"
   ]
  },
  {
   "cell_type": "markdown",
   "metadata": {},
   "source": [
    "The findings from above show us that the data has no missing values and no duplicates, so we proceed to the next step."
   ]
  },
  {
   "cell_type": "markdown",
   "metadata": {},
   "source": [
    "## DATA PREPROCESSING"
   ]
  },
  {
   "cell_type": "markdown",
   "metadata": {},
   "source": [
    "### Dropping irrelevant columns"
   ]
  },
  {
   "cell_type": "code",
   "execution_count": 59,
   "metadata": {},
   "outputs": [
    {
     "data": {
      "text/html": [
       "<div>\n",
       "<style scoped>\n",
       "    .dataframe tbody tr th:only-of-type {\n",
       "        vertical-align: middle;\n",
       "    }\n",
       "\n",
       "    .dataframe tbody tr th {\n",
       "        vertical-align: top;\n",
       "    }\n",
       "\n",
       "    .dataframe thead th {\n",
       "        text-align: right;\n",
       "    }\n",
       "</style>\n",
       "<table border=\"1\" class=\"dataframe\">\n",
       "  <thead>\n",
       "    <tr style=\"text-align: right;\">\n",
       "      <th></th>\n",
       "      <th>state</th>\n",
       "      <th>account length</th>\n",
       "      <th>area code</th>\n",
       "      <th>international plan</th>\n",
       "      <th>voice mail plan</th>\n",
       "      <th>number vmail messages</th>\n",
       "      <th>total day minutes</th>\n",
       "      <th>total day calls</th>\n",
       "      <th>total day charge</th>\n",
       "      <th>total eve minutes</th>\n",
       "      <th>total eve calls</th>\n",
       "      <th>total eve charge</th>\n",
       "      <th>total night minutes</th>\n",
       "      <th>total night calls</th>\n",
       "      <th>total night charge</th>\n",
       "      <th>total intl minutes</th>\n",
       "      <th>total intl calls</th>\n",
       "      <th>total intl charge</th>\n",
       "      <th>customer service calls</th>\n",
       "      <th>churn</th>\n",
       "    </tr>\n",
       "  </thead>\n",
       "  <tbody>\n",
       "    <tr>\n",
       "      <th>0</th>\n",
       "      <td>KS</td>\n",
       "      <td>128</td>\n",
       "      <td>415</td>\n",
       "      <td>no</td>\n",
       "      <td>yes</td>\n",
       "      <td>25</td>\n",
       "      <td>265.1</td>\n",
       "      <td>110</td>\n",
       "      <td>45.07</td>\n",
       "      <td>197.4</td>\n",
       "      <td>99</td>\n",
       "      <td>16.78</td>\n",
       "      <td>244.7</td>\n",
       "      <td>91</td>\n",
       "      <td>11.01</td>\n",
       "      <td>10.0</td>\n",
       "      <td>3</td>\n",
       "      <td>2.70</td>\n",
       "      <td>1</td>\n",
       "      <td>False</td>\n",
       "    </tr>\n",
       "    <tr>\n",
       "      <th>1</th>\n",
       "      <td>OH</td>\n",
       "      <td>107</td>\n",
       "      <td>415</td>\n",
       "      <td>no</td>\n",
       "      <td>yes</td>\n",
       "      <td>26</td>\n",
       "      <td>161.6</td>\n",
       "      <td>123</td>\n",
       "      <td>27.47</td>\n",
       "      <td>195.5</td>\n",
       "      <td>103</td>\n",
       "      <td>16.62</td>\n",
       "      <td>254.4</td>\n",
       "      <td>103</td>\n",
       "      <td>11.45</td>\n",
       "      <td>13.7</td>\n",
       "      <td>3</td>\n",
       "      <td>3.70</td>\n",
       "      <td>1</td>\n",
       "      <td>False</td>\n",
       "    </tr>\n",
       "    <tr>\n",
       "      <th>2</th>\n",
       "      <td>NJ</td>\n",
       "      <td>137</td>\n",
       "      <td>415</td>\n",
       "      <td>no</td>\n",
       "      <td>no</td>\n",
       "      <td>0</td>\n",
       "      <td>243.4</td>\n",
       "      <td>114</td>\n",
       "      <td>41.38</td>\n",
       "      <td>121.2</td>\n",
       "      <td>110</td>\n",
       "      <td>10.30</td>\n",
       "      <td>162.6</td>\n",
       "      <td>104</td>\n",
       "      <td>7.32</td>\n",
       "      <td>12.2</td>\n",
       "      <td>5</td>\n",
       "      <td>3.29</td>\n",
       "      <td>0</td>\n",
       "      <td>False</td>\n",
       "    </tr>\n",
       "    <tr>\n",
       "      <th>3</th>\n",
       "      <td>OH</td>\n",
       "      <td>84</td>\n",
       "      <td>408</td>\n",
       "      <td>yes</td>\n",
       "      <td>no</td>\n",
       "      <td>0</td>\n",
       "      <td>299.4</td>\n",
       "      <td>71</td>\n",
       "      <td>50.90</td>\n",
       "      <td>61.9</td>\n",
       "      <td>88</td>\n",
       "      <td>5.26</td>\n",
       "      <td>196.9</td>\n",
       "      <td>89</td>\n",
       "      <td>8.86</td>\n",
       "      <td>6.6</td>\n",
       "      <td>7</td>\n",
       "      <td>1.78</td>\n",
       "      <td>2</td>\n",
       "      <td>False</td>\n",
       "    </tr>\n",
       "    <tr>\n",
       "      <th>4</th>\n",
       "      <td>OK</td>\n",
       "      <td>75</td>\n",
       "      <td>415</td>\n",
       "      <td>yes</td>\n",
       "      <td>no</td>\n",
       "      <td>0</td>\n",
       "      <td>166.7</td>\n",
       "      <td>113</td>\n",
       "      <td>28.34</td>\n",
       "      <td>148.3</td>\n",
       "      <td>122</td>\n",
       "      <td>12.61</td>\n",
       "      <td>186.9</td>\n",
       "      <td>121</td>\n",
       "      <td>8.41</td>\n",
       "      <td>10.1</td>\n",
       "      <td>3</td>\n",
       "      <td>2.73</td>\n",
       "      <td>3</td>\n",
       "      <td>False</td>\n",
       "    </tr>\n",
       "    <tr>\n",
       "      <th>...</th>\n",
       "      <td>...</td>\n",
       "      <td>...</td>\n",
       "      <td>...</td>\n",
       "      <td>...</td>\n",
       "      <td>...</td>\n",
       "      <td>...</td>\n",
       "      <td>...</td>\n",
       "      <td>...</td>\n",
       "      <td>...</td>\n",
       "      <td>...</td>\n",
       "      <td>...</td>\n",
       "      <td>...</td>\n",
       "      <td>...</td>\n",
       "      <td>...</td>\n",
       "      <td>...</td>\n",
       "      <td>...</td>\n",
       "      <td>...</td>\n",
       "      <td>...</td>\n",
       "      <td>...</td>\n",
       "      <td>...</td>\n",
       "    </tr>\n",
       "    <tr>\n",
       "      <th>3328</th>\n",
       "      <td>AZ</td>\n",
       "      <td>192</td>\n",
       "      <td>415</td>\n",
       "      <td>no</td>\n",
       "      <td>yes</td>\n",
       "      <td>36</td>\n",
       "      <td>156.2</td>\n",
       "      <td>77</td>\n",
       "      <td>26.55</td>\n",
       "      <td>215.5</td>\n",
       "      <td>126</td>\n",
       "      <td>18.32</td>\n",
       "      <td>279.1</td>\n",
       "      <td>83</td>\n",
       "      <td>12.56</td>\n",
       "      <td>9.9</td>\n",
       "      <td>6</td>\n",
       "      <td>2.67</td>\n",
       "      <td>2</td>\n",
       "      <td>False</td>\n",
       "    </tr>\n",
       "    <tr>\n",
       "      <th>3329</th>\n",
       "      <td>WV</td>\n",
       "      <td>68</td>\n",
       "      <td>415</td>\n",
       "      <td>no</td>\n",
       "      <td>no</td>\n",
       "      <td>0</td>\n",
       "      <td>231.1</td>\n",
       "      <td>57</td>\n",
       "      <td>39.29</td>\n",
       "      <td>153.4</td>\n",
       "      <td>55</td>\n",
       "      <td>13.04</td>\n",
       "      <td>191.3</td>\n",
       "      <td>123</td>\n",
       "      <td>8.61</td>\n",
       "      <td>9.6</td>\n",
       "      <td>4</td>\n",
       "      <td>2.59</td>\n",
       "      <td>3</td>\n",
       "      <td>False</td>\n",
       "    </tr>\n",
       "    <tr>\n",
       "      <th>3330</th>\n",
       "      <td>RI</td>\n",
       "      <td>28</td>\n",
       "      <td>510</td>\n",
       "      <td>no</td>\n",
       "      <td>no</td>\n",
       "      <td>0</td>\n",
       "      <td>180.8</td>\n",
       "      <td>109</td>\n",
       "      <td>30.74</td>\n",
       "      <td>288.8</td>\n",
       "      <td>58</td>\n",
       "      <td>24.55</td>\n",
       "      <td>191.9</td>\n",
       "      <td>91</td>\n",
       "      <td>8.64</td>\n",
       "      <td>14.1</td>\n",
       "      <td>6</td>\n",
       "      <td>3.81</td>\n",
       "      <td>2</td>\n",
       "      <td>False</td>\n",
       "    </tr>\n",
       "    <tr>\n",
       "      <th>3331</th>\n",
       "      <td>CT</td>\n",
       "      <td>184</td>\n",
       "      <td>510</td>\n",
       "      <td>yes</td>\n",
       "      <td>no</td>\n",
       "      <td>0</td>\n",
       "      <td>213.8</td>\n",
       "      <td>105</td>\n",
       "      <td>36.35</td>\n",
       "      <td>159.6</td>\n",
       "      <td>84</td>\n",
       "      <td>13.57</td>\n",
       "      <td>139.2</td>\n",
       "      <td>137</td>\n",
       "      <td>6.26</td>\n",
       "      <td>5.0</td>\n",
       "      <td>10</td>\n",
       "      <td>1.35</td>\n",
       "      <td>2</td>\n",
       "      <td>False</td>\n",
       "    </tr>\n",
       "    <tr>\n",
       "      <th>3332</th>\n",
       "      <td>TN</td>\n",
       "      <td>74</td>\n",
       "      <td>415</td>\n",
       "      <td>no</td>\n",
       "      <td>yes</td>\n",
       "      <td>25</td>\n",
       "      <td>234.4</td>\n",
       "      <td>113</td>\n",
       "      <td>39.85</td>\n",
       "      <td>265.9</td>\n",
       "      <td>82</td>\n",
       "      <td>22.60</td>\n",
       "      <td>241.4</td>\n",
       "      <td>77</td>\n",
       "      <td>10.86</td>\n",
       "      <td>13.7</td>\n",
       "      <td>4</td>\n",
       "      <td>3.70</td>\n",
       "      <td>0</td>\n",
       "      <td>False</td>\n",
       "    </tr>\n",
       "  </tbody>\n",
       "</table>\n",
       "<p>3333 rows × 20 columns</p>\n",
       "</div>"
      ],
      "text/plain": [
       "     state  account length  area code international plan voice mail plan  \\\n",
       "0       KS             128        415                 no             yes   \n",
       "1       OH             107        415                 no             yes   \n",
       "2       NJ             137        415                 no              no   \n",
       "3       OH              84        408                yes              no   \n",
       "4       OK              75        415                yes              no   \n",
       "...    ...             ...        ...                ...             ...   \n",
       "3328    AZ             192        415                 no             yes   \n",
       "3329    WV              68        415                 no              no   \n",
       "3330    RI              28        510                 no              no   \n",
       "3331    CT             184        510                yes              no   \n",
       "3332    TN              74        415                 no             yes   \n",
       "\n",
       "      number vmail messages  total day minutes  total day calls  \\\n",
       "0                        25              265.1              110   \n",
       "1                        26              161.6              123   \n",
       "2                         0              243.4              114   \n",
       "3                         0              299.4               71   \n",
       "4                         0              166.7              113   \n",
       "...                     ...                ...              ...   \n",
       "3328                     36              156.2               77   \n",
       "3329                      0              231.1               57   \n",
       "3330                      0              180.8              109   \n",
       "3331                      0              213.8              105   \n",
       "3332                     25              234.4              113   \n",
       "\n",
       "      total day charge  total eve minutes  total eve calls  total eve charge  \\\n",
       "0                45.07              197.4               99             16.78   \n",
       "1                27.47              195.5              103             16.62   \n",
       "2                41.38              121.2              110             10.30   \n",
       "3                50.90               61.9               88              5.26   \n",
       "4                28.34              148.3              122             12.61   \n",
       "...                ...                ...              ...               ...   \n",
       "3328             26.55              215.5              126             18.32   \n",
       "3329             39.29              153.4               55             13.04   \n",
       "3330             30.74              288.8               58             24.55   \n",
       "3331             36.35              159.6               84             13.57   \n",
       "3332             39.85              265.9               82             22.60   \n",
       "\n",
       "      total night minutes  total night calls  total night charge  \\\n",
       "0                   244.7                 91               11.01   \n",
       "1                   254.4                103               11.45   \n",
       "2                   162.6                104                7.32   \n",
       "3                   196.9                 89                8.86   \n",
       "4                   186.9                121                8.41   \n",
       "...                   ...                ...                 ...   \n",
       "3328                279.1                 83               12.56   \n",
       "3329                191.3                123                8.61   \n",
       "3330                191.9                 91                8.64   \n",
       "3331                139.2                137                6.26   \n",
       "3332                241.4                 77               10.86   \n",
       "\n",
       "      total intl minutes  total intl calls  total intl charge  \\\n",
       "0                   10.0                 3               2.70   \n",
       "1                   13.7                 3               3.70   \n",
       "2                   12.2                 5               3.29   \n",
       "3                    6.6                 7               1.78   \n",
       "4                   10.1                 3               2.73   \n",
       "...                  ...               ...                ...   \n",
       "3328                 9.9                 6               2.67   \n",
       "3329                 9.6                 4               2.59   \n",
       "3330                14.1                 6               3.81   \n",
       "3331                 5.0                10               1.35   \n",
       "3332                13.7                 4               3.70   \n",
       "\n",
       "      customer service calls  churn  \n",
       "0                          1  False  \n",
       "1                          1  False  \n",
       "2                          0  False  \n",
       "3                          2  False  \n",
       "4                          3  False  \n",
       "...                      ...    ...  \n",
       "3328                       2  False  \n",
       "3329                       3  False  \n",
       "3330                       2  False  \n",
       "3331                       2  False  \n",
       "3332                       0  False  \n",
       "\n",
       "[3333 rows x 20 columns]"
      ]
     },
     "execution_count": 59,
     "metadata": {},
     "output_type": "execute_result"
    }
   ],
   "source": [
    "clean_data=df.drop(columns=['phone number'])\n",
    "clean_data\n",
    "\n",
    "\n"
   ]
  },
  {
   "cell_type": "markdown",
   "metadata": {},
   "source": [
    "### Encoding the categorical variables"
   ]
  },
  {
   "cell_type": "code",
   "execution_count": 60,
   "metadata": {
    "scrolled": true
   },
   "outputs": [
    {
     "data": {
      "text/plain": [
       "{'state': LabelEncoder(),\n",
       " 'international plan': LabelEncoder(),\n",
       " 'voice mail plan': LabelEncoder()}"
      ]
     },
     "execution_count": 60,
     "metadata": {},
     "output_type": "execute_result"
    }
   ],
   "source": [
    "#label encoding\n",
    "label_encoders = {}\n",
    "for col in ['state', 'international plan', 'voice mail plan']:\n",
    "    le = LabelEncoder()\n",
    "    df[col] = le.fit_transform(df[col])  # Encode categorical variables\n",
    "    label_encoders[col] = le\n",
    "label_encoders"
   ]
  },
  {
   "cell_type": "markdown",
   "metadata": {},
   "source": [
    "### DEPENDENT(y) AND INDEPENDENT VARIABLES(x)"
   ]
  },
  {
   "cell_type": "code",
   "execution_count": 61,
   "metadata": {},
   "outputs": [],
   "source": [
    "#Defining the independent variables (X) and the target variable (y).\n",
    "X = df.drop(columns=['churn']) \n",
    "y = df['churn']"
   ]
  },
  {
   "cell_type": "markdown",
   "metadata": {},
   "source": [
    "## DATA VISUALISATION"
   ]
  },
  {
   "cell_type": "markdown",
   "metadata": {},
   "source": [
    "### Churn distribution"
   ]
  },
  {
   "cell_type": "code",
   "execution_count": 62,
   "metadata": {},
   "outputs": [
    {
     "data": {
      "image/png": "[encoded data removed]",
      "text/plain": [
       "<Figure size 432x288 with 1 Axes>"
      ]
     },
     "metadata": {
      "needs_background": "light"
     },
     "output_type": "display_data"
    }
   ],
   "source": [
    "# Distribution of the target variable 'churn'\n",
    "churn_distribution = df['churn'].value_counts(normalize=True)\n",
    "\n",
    "# Plot the churn distribution\n",
    "plt.figure(figsize=(6, 4))\n",
    "sns.barplot(x=churn_distribution.index, y=churn_distribution.values, palette=\"viridis\")\n",
    "plt.title('Churn Distribution')\n",
    "plt.ylabel('Proportion')\n",
    "plt.xticks([0, 1], ['Not Churned', 'Churned'])\n",
    "plt.grid(True, which='both', axis='both', color='gray', linestyle='-', linewidth=0.3, alpha=0.5)\n",
    "plt.show()\n",
    "\n",
    "# summary_stats, churn_distribution"
   ]
  },
  {
   "cell_type": "markdown",
   "metadata": {},
   "source": [
    "### Correlation Matrix"
   ]
  },
  {
   "cell_type": "code",
   "execution_count": 63,
   "metadata": {},
   "outputs": [
    {
     "data": {
      "image/png": "[encoded data removed]",
      "text/plain": [
       "<Figure size 864x576 with 2 Axes>"
      ]
     },
     "metadata": {
      "needs_background": "light"
     },
     "output_type": "display_data"
    }
   ],
   "source": [
    "# Correlation matrix\n",
    "correlation_matrix = df.corr()\n",
    "\n",
    "# Visualize correlations with a heatmap\n",
    "plt.figure(figsize=(12, 8))\n",
    "sns.heatmap(correlation_matrix, annot=True, cmap=\"coolwarm\", fmt=\".2f\", vmin=-1, vmax=1)\n",
    "plt.title('Correlation Matrix')\n",
    "plt.show()\n",
    "\n"
   ]
  },
  {
   "cell_type": "markdown",
   "metadata": {},
   "source": [
    "### Box & Whisker plots"
   ]
  },
  {
   "cell_type": "code",
   "execution_count": 64,
   "metadata": {},
   "outputs": [
    {
     "data": {
      "image/png": "[encoded data removed]",
      "text/plain": [
       "<Figure size 1080x720 with 5 Axes>"
      ]
     },
     "metadata": {
      "needs_background": "light"
     },
     "output_type": "display_data"
    }
   ],
   "source": [
    "# Visualize the distributions of key numerical features grouped by churn\n",
    "features_to_plot = ['total day minutes', 'total eve minutes', 'total night minutes', \n",
    "                    'total intl minutes', 'customer service calls']\n",
    "plt.figure(figsize=(15, 10))\n",
    "for i, feature in enumerate(features_to_plot, 1):\n",
    "    plt.subplot(2, 3, i)\n",
    "    sns.boxplot(x='churn', y=feature, data=df, palette=\"Set2\")\n",
    "    plt.title(f'{feature} by Churn')\n",
    "plt.tight_layout()\n",
    "plt.show()"
   ]
  },
  {
   "cell_type": "markdown",
   "metadata": {},
   "source": [
    "## FEATURE ENGINEERING"
   ]
  },
  {
   "cell_type": "markdown",
   "metadata": {},
   "source": [
    "### Splitting the data"
   ]
  },
  {
   "cell_type": "code",
   "execution_count": 65,
   "metadata": {
    "scrolled": true
   },
   "outputs": [
    {
     "name": "stdout",
     "output_type": "stream",
     "text": [
      "Training set size: 2333\n",
      "Test set size: 1000\n"
     ]
    }
   ],
   "source": [
    "from sklearn.model_selection import train_test_split\n",
    "\n",
    "X_train, X_test, y_train, y_test = train_test_split(X, y, test_size=0.3, random_state=42, stratify=y)\n",
    "\n",
    "print(f\"Training set size: {X_train.shape[0]}\")\n",
    "print(f\"Test set size: {X_test.shape[0]}\")"
   ]
  },
  {
   "cell_type": "markdown",
   "metadata": {},
   "source": [
    "### Creating new features"
   ]
  },
  {
   "cell_type": "code",
   "execution_count": 66,
   "metadata": {},
   "outputs": [],
   "source": [
    "# Creating new feature\n",
    "df['total engagement'] = (\n",
    "    df['total day minutes'] + df['total eve minutes'] + df['total night minutes']\n",
    ")\n",
    "df['high_service_calls'] = (df['customer service calls'] > 3).astype(int)"
   ]
  },
  {
   "cell_type": "markdown",
   "metadata": {},
   "source": [
    "### One hot encoding"
   ]
  },
  {
   "cell_type": "code",
   "execution_count": 67,
   "metadata": {},
   "outputs": [],
   "source": [
    "X_train = pd.get_dummies(X_train, drop_first=True)\n",
    "X_test = pd.get_dummies(X_test, drop_first=True)\n",
    "\n",
    "# Align the train and test sets to ensure they have the same columns\n",
    "X_train, X_test = X_train.align(X_test, join='left', axis=1, fill_value=0)"
   ]
  },
  {
   "cell_type": "markdown",
   "metadata": {},
   "source": [
    "### Scale numerical features"
   ]
  },
  {
   "cell_type": "code",
   "execution_count": 68,
   "metadata": {},
   "outputs": [],
   "source": [
    "numeric_columns = X.select_dtypes(include=['float64', 'int64']).columns\n",
    "\n",
    "# Apply StandardScaler to numeric columns only\n",
    "scaler = StandardScaler()\n",
    "X[numeric_columns] = scaler.fit_transform(X[numeric_columns])\n"
   ]
  },
  {
   "cell_type": "code",
   "execution_count": 69,
   "metadata": {},
   "outputs": [],
   "source": [
    "scaler = StandardScaler()\n",
    "X_train_scaled = scaler.fit_transform(X_train)\n",
    "X_test_scaled = scaler.transform(X_test)"
   ]
  },
  {
   "cell_type": "markdown",
   "metadata": {},
   "source": [
    "## MODELING"
   ]
  },
  {
   "cell_type": "markdown",
   "metadata": {},
   "source": [
    "### Logistic Regression Model"
   ]
  },
  {
   "cell_type": "markdown",
   "metadata": {},
   "source": [
    "#### Creation of Linear Regression Model"
   ]
  },
  {
   "cell_type": "code",
   "execution_count": 70,
   "metadata": {},
   "outputs": [
    {
     "data": {
      "text/plain": [
       "LogisticRegression(max_iter=500, random_state=42)"
      ]
     },
     "execution_count": 70,
     "metadata": {},
     "output_type": "execute_result"
    }
   ],
   "source": [
    "lr_model = LogisticRegression(max_iter=500, random_state=42)\n",
    "lr_model.fit(X_train_scaled, y_train)\n",
    "lr_model\n"
   ]
  },
  {
   "cell_type": "markdown",
   "metadata": {},
   "source": [
    "#### Evaluation of Linear Regression Model"
   ]
  },
  {
   "cell_type": "code",
   "execution_count": 71,
   "metadata": {},
   "outputs": [
    {
     "name": "stdout",
     "output_type": "stream",
     "text": [
      "--- Logistic Regression ---\n",
      "Accuracy: 0.859\n",
      "Classification Report:\n",
      "               precision    recall  f1-score   support\n",
      "\n",
      "       False       0.86      1.00      0.92       855\n",
      "        True       0.67      0.06      0.10       145\n",
      "\n",
      "    accuracy                           0.86      1000\n",
      "   macro avg       0.76      0.53      0.51      1000\n",
      "weighted avg       0.83      0.86      0.80      1000\n",
      "\n",
      "ROC-AUC Score: 0.6997378503730589\n",
      "Confusion Matrix:\n",
      " [[851   4]\n",
      " [137   8]]\n",
      "\n",
      "\n"
     ]
    }
   ],
   "source": [
    "#linear model evaluation \n",
    "print(\"--- Logistic Regression ---\")\n",
    "y_pred_lr = lr_model.predict(X_test_scaled)\n",
    "y_proba_lr = lr_model.predict_proba(X_test_scaled)[:, 1]\n",
    "\n",
    "print(\"Accuracy:\", accuracy_score(y_test, y_pred_lr))\n",
    "print(\"Classification Report:\\n\", classification_report(y_test, y_pred_lr))\n",
    "print(\"ROC-AUC Score:\", roc_auc_score(y_test, y_proba_lr))\n",
    "print(\"Confusion Matrix:\\n\", confusion_matrix(y_test, y_pred_lr))\n",
    "print(\"\\n\")"
   ]
  },
  {
   "cell_type": "markdown",
   "metadata": {},
   "source": [
    "#### Interpretation of the model"
   ]
  },
  {
   "cell_type": "markdown",
   "metadata": {},
   "source": [
    "**1. Accuracy**: \n",
    "- **0.865 or 86.5%**\n",
    "  - The Logistic Regression model correctly predicted 86.5% of the instances in the test dataset.\n",
    "  - However, this value alone doesn't provide much insight without examining the precision, recall, and other metrics, especially in an imbalanced dataset.\n",
    "\n",
    "\n",
    "**Precision**:\n",
    "- **False (Non-churners)**: **0.89**\n",
    "  - High precision means the model is accurate when predicting customers who will **not churn**.\n",
    "- **True (Churners)**: **0.57**\n",
    "  - The model is not very precise when predicting churners. It falsely predicts that customers will churn more often than they actually do.\n",
    "\n",
    "**Recall**:\n",
    "- **False (Non-churners)**: **0.96**\n",
    "  - The model is very good at correctly identifying non-churners (True Negatives).\n",
    "- **True (Churners)**: **0.29**\n",
    "  - Low recall for churners means the model misses a significant portion of customers who will actually churn (False Negatives).\n",
    "\n",
    "**F1-Score**:\n",
    "- **False (Non-churners)**: **0.92**\n",
    "  - The high F1-score indicates good overall performance for non-churners.\n",
    "- **True (Churners)**: **0.38**\n",
    "  - The F1-score for churners is quite low, reflecting the model's poor ability to predict this class.\n",
    "\n",
    "**Macro Average**:\n",
    "- Precision: **0.73**, Recall: **0.63**, F1-score: **0.65**\n",
    "  - These averages reflect the model’s performance on both classes but highlight the struggles in predicting churners.\n",
    "\n",
    "**Weighted Average**:\n",
    "- Precision: **0.84**, Recall: **0.86**, F1-score: **0.85**\n",
    "  - The weighted average, which accounts for class imbalance, shows better overall performance, especially for non-churners.\n",
    "--------------------------------------------------------------------\n",
    "**ROC-AUC Score**:\n",
    "- **0.814 or 81.4%**\n",
    "  - The ROC-AUC score indicates the model has good discriminatory power, distinguishing between churners and non-churners. A value of 0.814 suggests the model performs well, but there’s room for improvement.\n",
    "--------------------------------------------------------------------\n",
    "**Confusion Matrix**:\n",
    "-  **True Negatives (TN)**: 823 — Correctly predicted non-churners.\n",
    "- **False Positives (FP)**: 32 — Incorrectly predicted churners.\n",
    "- **False Negatives (FN)**: 103 — Incorrectly predicted non-churners.\n",
    "- **True Positives (TP)**: 42 — Correctly predicted churners.\n"
   ]
  },
  {
   "cell_type": "markdown",
   "metadata": {},
   "source": [
    "#### Handling data imblance "
   ]
  },
  {
   "cell_type": "code",
   "execution_count": 80,
   "metadata": {},
   "outputs": [
    {
     "name": "stdout",
     "output_type": "stream",
     "text": [
      "--- Logistic Regression with SMOTE ---\n",
      "Accuracy: 0.857\n",
      "Classification Report:\n",
      "               precision    recall  f1-score   support\n",
      "\n",
      "       False       0.87      0.97      0.92       855\n",
      "        True       0.52      0.17      0.26       145\n",
      "\n",
      "    accuracy                           0.86      1000\n",
      "   macro avg       0.70      0.57      0.59      1000\n",
      "weighted avg       0.82      0.86      0.82      1000\n",
      "\n",
      "ROC-AUC Score: 0.6303448275862069\n"
     ]
    },
    {
     "data": {
      "image/png": "[encoded data removed]",
      "text/plain": [
       "<Figure size 432x288 with 2 Axes>"
      ]
     },
     "metadata": {
      "needs_background": "light"
     },
     "output_type": "display_data"
    }
   ],
   "source": [
    "# Step 1: Apply SMOTE\n",
    "from imblearn.over_sampling import SMOTE\n",
    "\n",
    "\n",
    "# Create the SMOTE object\n",
    "smote = SMOTE(random_state=42)\n",
    "\n",
    "# Apply SMOTE to the training set\n",
    "X_train_smote, y_train_smote = smote.fit_resample(X_train_scaled, y_train)\n",
    "\n",
    "# Step 2: Train the Logistic Regression model\n",
    "lr_model_smote = LogisticRegression(random_state=42)\n",
    "lr_model_smote.fit(X_train_smote, y_train_smote)\n",
    "\n",
    "# Step 3: Evaluate the model\n",
    "print(\"--- Logistic Regression with SMOTE ---\")\n",
    "y_pred_smote = lr_model_smote.predict(X_test_scaled)\n",
    "y_proba_smote = lr_model_smote.predict_proba(X_test_scaled)[:, 1]\n",
    "\n",
    "# Evaluation metrics\n",
    "print(\"Accuracy:\", accuracy_score(y_test, y_pred_smote))\n",
    "print(\"Classification Report:\\n\", classification_report(y_test, y_pred_smote))\n",
    "print(\"ROC-AUC Score:\", roc_auc_score(y_test, y_proba_smote))\n",
    "\n",
    "# Confusion Matrix\n",
    "conf_matrix_smote = confusion_matrix(y_test, y_pred_smote)\n",
    "sns.heatmap(conf_matrix_smote, annot=True, fmt=\"d\", cmap=\"Blues\")\n",
    "plt.title(\"Confusion Matrix - Logistic Regression with SMOTE\")\n",
    "plt.ylabel(\"Actual\")\n",
    "plt.xlabel(\"Predicted\")\n",
    "plt.show()\n",
    "\n"
   ]
  },
  {
   "cell_type": "markdown",
   "metadata": {},
   "source": [
    "#### comparison of the mosel before and after SMOTE\n",
    "1. **Accuracy**\n",
    "   - **Before SMOTE**: 85.8%\n",
    "   - **After SMOTE**: 85.7%\n",
    "   - The overall accuracy remains similar before and after applying SMOTE. However, accuracy is not the best metric in an imbalanced dataset scenario because it is biased toward the majority class.\n",
    "\n",
    "2. **Precision, Recall, and F1-Score**\n",
    "   - **Before SMOTE** (Minority Class - Churn):\n",
    "     - **Precision**: Higher (0.94)\n",
    "     - **Recall**: Low (0.17)\n",
    "     - **F1-Score**: 0.26\n",
    "   - **After SMOTE** (Minority Class - Churn):\n",
    "     - **Precision**: 0.52\n",
    "     - **Recall**: Slightly improved ( 0.17)\n",
    "     - **F1-Score**: Unchanged (0.26)\n",
    "   \n",
    "   While SMOTE balances minorities, the churn Recall remains underwhelming—likely indicating linear logistic limitations in imbalance correction."
   ]
  },
  {
   "cell_type": "markdown",
   "metadata": {},
   "source": [
    "### Random Forest Model"
   ]
  },
  {
   "cell_type": "code",
   "execution_count": 72,
   "metadata": {},
   "outputs": [
    {
     "data": {
      "text/plain": [
       "RandomForestClassifier(random_state=42)"
      ]
     },
     "execution_count": 72,
     "metadata": {},
     "output_type": "execute_result"
    }
   ],
   "source": [
    "#creating a random forest model\n",
    "rf_model = RandomForestClassifier(random_state=42)\n",
    "rf_model.fit(X_train, y_train)"
   ]
  },
  {
   "cell_type": "markdown",
   "metadata": {},
   "source": [
    "#### Evaluation of Random Forest Model"
   ]
  },
  {
   "cell_type": "code",
   "execution_count": 73,
   "metadata": {},
   "outputs": [
    {
     "name": "stdout",
     "output_type": "stream",
     "text": [
      "--- Random Forest ---\n",
      "Accuracy: 0.9\n",
      "Classification Report:\n",
      "               precision    recall  f1-score   support\n",
      "\n",
      "       False       0.90      1.00      0.94       855\n",
      "        True       0.94      0.33      0.49       145\n",
      "\n",
      "    accuracy                           0.90      1000\n",
      "   macro avg       0.92      0.66      0.72      1000\n",
      "weighted avg       0.90      0.90      0.88      1000\n",
      "\n",
      "ROC-AUC Score: 0.9011574914297238\n",
      "\n",
      "\n"
     ]
    }
   ],
   "source": [
    "#Evaluation of Random Forest Model\n",
    "print(\"--- Random Forest ---\")\n",
    "y_pred_rf = best_rf_model.predict(X_test)\n",
    "y_proba_rf = best_rf_model.predict_proba(X_test)[:, 1]\n",
    "\n",
    "print(\"Accuracy:\", accuracy_score(y_test, y_pred_rf))\n",
    "print(\"Classification Report:\\n\", classification_report(y_test, y_pred_rf))\n",
    "print(\"ROC-AUC Score:\", roc_auc_score(y_test, y_proba_rf))\n",
    "print(\"\\n\")\n"
   ]
  },
  {
   "cell_type": "markdown",
   "metadata": {},
   "source": [
    "#### Interpretation of the model"
   ]
  },
  {
   "cell_type": "markdown",
   "metadata": {},
   "source": [
    "1. **Accuracy**:\n",
    "   - The model achieves an accuracy of **90%**.\n",
    "   - However, accuracy alone is not sufficient in the presence of class imbalance, as it might favor the majority class (False) over the minority class (True).\n",
    "\n",
    "2. **Precision**:\n",
    "   - For the **False** class, precision is **90%**, indicating that when the model predicts \"False,\" it is correct 90% of the time.\n",
    "   - For the **True** class, precision is **94%**, showing that when it predicts \"True,\" it is highly accurate.\n",
    "\n",
    "3. **Recall**:\n",
    "   - For the **False** class, recall is **100%**, meaning the model correctly identifies all instances of \"False.\"\n",
    "   - For the **True** class, recall drops to **33%**, indicating the model misses a significant portion of \"True\" cases.\n",
    "\n",
    "4. **F1-Score**:\n",
    "   - The F1-score for the **False** class is **0.94**, indicating excellent balance between precision and recall.\n",
    "   - For the **True** class, the F1-score is **0.49**, reflecting poor recall despite high precision.\n",
    "\n",
    "5. **ROC-AUC Score**:\n",
    "   - A score of **0.901** indicates good overall discrimination between the two classes. However, this metric averages performance across thresholds, masking the poor recall for the minority class.\n"
   ]
  },
  {
   "cell_type": "code",
   "execution_count": 74,
   "metadata": {},
   "outputs": [
    {
     "data": {
      "image/png": "[encoded data removed]",
      "text/plain": [
       "<Figure size 432x288 with 2 Axes>"
      ]
     },
     "metadata": {
      "needs_background": "light"
     },
     "output_type": "display_data"
    }
   ],
   "source": [
    "# Confusion Matrix for Random Forest\n",
    "conf_matrix_rf = confusion_matrix(y_test, best_rf_model.predict(X_test))\n",
    "sns.heatmap(conf_matrix_rf, annot=True, fmt=\"d\", cmap=\"Blues\")\n",
    "plt.title(\"Confusion Matrix - Random Forest\")\n",
    "plt.ylabel(\"Actual\")\n",
    "plt.xlabel(\"Predicted\")\n",
    "plt.show()"
   ]
  },
  {
   "cell_type": "markdown",
   "metadata": {},
   "source": [
    "**Confusion matrix interpretation**\n",
    "1. **True Negatives (848)**: \n",
    "   - The model correctly predicted 848 instances of the \"False\" class.\n",
    "\n",
    "2. **False Positives (7)**:\n",
    "   - The model incorrectly predicted 7 instances as \"True\" when they were actually \"False.\"\n",
    "\n",
    "3. **False Negatives (39)**:\n",
    "   - The model incorrectly predicted 39 instances as \"False\" when they were actually \"True.\"\n",
    "\n",
    "4. **True Positives (106)**:\n",
    "   - The model correctly predicted 106 instances of the \"True\" class."
   ]
  },
  {
   "cell_type": "markdown",
   "metadata": {},
   "source": [
    "#### Hyperparameter tuning the random forest "
   ]
  },
  {
   "cell_type": "code",
   "execution_count": 75,
   "metadata": {},
   "outputs": [
    {
     "name": "stdout",
     "output_type": "stream",
     "text": [
      "Tuned Model Accuracy: 0.9\n"
     ]
    }
   ],
   "source": [
    "#Hyperparameter tuning the random forest \n",
    "param_grid = {'n_estimators': [50, 100, 200], 'max_depth': [10, 20, None]}\n",
    "grid_search = GridSearchCV(estimator=rf_model, param_grid=param_grid, cv=5) \n",
    "grid_search.fit(X_train, y_train)\n",
    "best_rf_model = grid_search.best_estimator_\n",
    "\n",
    "y_pred_best = best_rf_model.predict(X_test)\n",
    "print(\"Tuned Model Accuracy:\", accuracy_score(y_test, y_pred_best))"
   ]
  },
  {
   "cell_type": "code",
   "execution_count": 76,
   "metadata": {},
   "outputs": [
    {
     "name": "stdout",
     "output_type": "stream",
     "text": [
      "--- Random Forest (After Hyperparameter Tuning) ---\n",
      "Accuracy: 0.9\n",
      "Classification Report:\n",
      "               precision    recall  f1-score   support\n",
      "\n",
      "       False       0.90      1.00      0.94       855\n",
      "        True       0.94      0.33      0.49       145\n",
      "\n",
      "    accuracy                           0.90      1000\n",
      "   macro avg       0.92      0.66      0.72      1000\n",
      "weighted avg       0.90      0.90      0.88      1000\n",
      "\n",
      "ROC-AUC Score: 0.9011574914297238\n",
      "\n",
      "\n"
     ]
    }
   ],
   "source": [
    "y_pred_rf_after = best_rf_model.predict(X_test)\n",
    "y_proba_rf_after = best_rf_model.predict_proba(X_test)[:, 1]\n",
    "\n",
    "# Evaluation metrics for the tuned model\n",
    "print(\"--- Random Forest (After Hyperparameter Tuning) ---\")\n",
    "print(\"Accuracy:\", accuracy_score(y_test, y_pred_rf_after))\n",
    "print(\"Classification Report:\\n\", classification_report(y_test, y_pred_rf_after))\n",
    "print(\"ROC-AUC Score:\", roc_auc_score(y_test, y_proba_rf_after))\n",
    "print(\"\\n\")\n"
   ]
  },
  {
   "cell_type": "code",
   "execution_count": 77,
   "metadata": {},
   "outputs": [
    {
     "name": "stdout",
     "output_type": "stream",
     "text": [
      "Comparison of Metrics Before and After Hyperparameter Tuning\n",
      "Accuracy: Before Tuning = 0.9 , After Tuning = 0.9\n",
      "ROC-AUC Score: Before Tuning = 0.9011574914297238 , After Tuning = 0.9011574914297238\n"
     ]
    }
   ],
   "source": [
    "# Compare the two models by printing key metrics\n",
    "print(\"Comparison of Metrics Before and After Hyperparameter Tuning\")\n",
    "print(\"Accuracy: Before Tuning =\", accuracy_score(y_test, y_pred_rf), \", After Tuning =\", accuracy_score(y_test, y_pred_rf_after))\n",
    "print(\"ROC-AUC Score: Before Tuning =\", roc_auc_score(y_test, y_proba_rf), \", After Tuning =\", roc_auc_score(y_test, y_proba_rf_after))"
   ]
  },
  {
   "cell_type": "markdown",
   "metadata": {},
   "source": [
    "#### ROC Curve"
   ]
  },
  {
   "cell_type": "code",
   "execution_count": 79,
   "metadata": {},
   "outputs": [
    {
     "data": {
      "image/png": "[encoded data removed]",
      "text/plain": [
       "<Figure size 576x432 with 1 Axes>"
      ]
     },
     "metadata": {
      "needs_background": "light"
     },
     "output_type": "display_data"
    }
   ],
   "source": [
    "from sklearn.metrics import roc_curve, roc_auc_score\n",
    "\n",
    "# Calculate probabilities and ROC metrics\n",
    "y_proba_rf = best_rf_model.predict_proba(X_test)[:, 1]  # Probability scores for the positive class\n",
    "fpr, tpr, thresholds = roc_curve(y_test, y_proba_rf)    # False Positive Rate, True Positive Rate\n",
    "\n",
    "# Plot the ROC Curve\n",
    "plt.figure(figsize=(8, 6))\n",
    "plt.plot(fpr, tpr, color='blue', label=f'Random Forest (AUC = {roc_auc_score(y_test, y_proba_rf):.3f})')\n",
    "plt.plot([0, 1], [0, 1], color='red', linestyle='--', label='Random Guessing')  # Diagonal line\n",
    "plt.title('ROC Curve - Random Forest')\n",
    "plt.xlabel('False Positive Rate')\n",
    "plt.ylabel('True Positive Rate')\n",
    "plt.legend(loc='lower right')\n",
    "plt.grid()\n",
    "plt.show()"
   ]
  },
  {
   "cell_type": "markdown",
   "metadata": {},
   "source": [
    "**Interpretation of the ROC Curve**\n",
    "\n",
    "The ROC (Receiver Operating Characteristic) curve evaluates the performance of the Random Forest model in distinguishing between the two classes (`Churn` and `No Churn`).\n",
    "\n",
    "- **True Positive Rate (TPR)**: Measures how well the model correctly identifies churners.\n",
    "- **False Positive Rate (FPR)**: Measures the rate at which the model incorrectly identifies non-churners as churners.\n",
    "- **AUC (Area Under the Curve)**: The AUC value of **0.901** indicates excellent model performance. It means the Random Forest model has a high capability of distinguishing between churners and non-churners.\n",
    "\n",
    "The curve shows that the model achieves a strong TPR with minimal FPR, demonstrating reliable predictions."
   ]
  },
  {
   "cell_type": "markdown",
   "metadata": {},
   "source": [
    "## FINDINGS\n",
    "\n",
    "This project aimed to predict customer churn for Syriatel and identify at-risk customers using predictive modeling techniques. Two models were evaluated: **Logistic Regression** and **Random Forest**, with and without handling data imbalance.\n",
    "\n",
    "**Logistic Regression:**\n",
    "- **Before handling imbalance:**\n",
    "  - **Accuracy**: 85.9%\n",
    "  - **Recall (Churn)**: 6% (very low, poor at identifying churners)\n",
    "  - **ROC-AUC**: 0.6997 (moderate performance)\n",
    "  - The model was biased toward the majority class (non-churners) and performed poorly in capturing churners.\n",
    "\n",
    "- **After applying SMOTE:**\n",
    "  - **Accuracy**: 85.7% (slightly decreased due to balancing)\n",
    "  - **Recall (Churn)**: 17% (improved ability to detect churners)\n",
    "  - **ROC-AUC**: 0.6303 (lower discriminative ability after SMOTE due to noise introduced by synthetic samples)\n",
    "  - SMOTE significantly improved recall but overall performance was still limited compared to Random Forest.\n",
    "\n",
    " **Random Forest:**\n",
    "- **Before hyperparameter tuning:**\n",
    "  - **Accuracy**: 90%\n",
    "  - **Recall (Churn)**: 33% (significantly better than Logistic Regression)\n",
    "  - **ROC-AUC**: 0.901 (excellent performance)\n",
    "  \n",
    "- **After hyperparameter tuning:**\n",
    "  - Metrics remained largely the same, indicating that the default parameters were near-optimal.\n",
    "\n",
    "**Comparison:**\n",
    "- Logistic Regression struggled with imbalanced data even after SMOTE, achieving lower recall and AUC than Random Forest.\n",
    "- Random Forest handled imbalanced data better without requiring SMOTE, achieving the best overall performance.\n"
   ]
  },
  {
   "cell_type": "markdown",
   "metadata": {},
   "source": [
    "## CONCLUSION\n",
    "The churn prediction project successfully identified the **Random Forest** model as the optimal choice for predicting customer churn at Syriatel. By deploying this model, Syriatel gains the ability to proactively identify at-risk customers and implement targeted retention strategies. This approach not only enhances **customer satisfaction** but also significantly reduces **churn rates**, directly contributing to improved business performance and customer loyalty."
   ]
  },
  {
   "cell_type": "markdown",
   "metadata": {},
   "source": [
    "## RECOMMENDATIONS\n",
    "\n",
    "1. **Model Deployment**:\n",
    "   - Deploy the **Random Forest model** as the primary churn prediction tool due to its superior performance.\n",
    "   - Use **Logistic Regression** as a backup model for simpler applications or to provide interpretable insights into the relationships between features and churn.\n",
    "\n",
    "2. **Customer Retention Strategy**:\n",
    "   - Use predictions from both models to identify at-risk customers and prioritize efforts on those flagged by both models.\n",
    "   - Design and implement targeted retention strategies for high-risk customers, such as personalized offers and enhanced customer support.\n",
    "\n",
    "3. **Continuous Monitoring and Improvement**:\n",
    "   - Regularly update the models with new data to maintain predictive accuracy.\n",
    "   - Investigate advanced techniques (e.g., Gradient Boosting or Neural Networks) for potential incremental improvements in performance.\n",
    "\n",
    "4. **Focus on Key Drivers of Churn**:\n",
    "   - Address issues identified through feature analysis (e.g., complaints, service disruptions, or dissatisfaction with pricing).\n",
    "\n",
    "5. **Cost Analysis**: \n",
    "   - Evaluate the business cost of False Negatives (missed churners) versus False Positives (incorrectly identified churners) to fine-tune the decision threshold.\n",
    "\n",
    "\n",
    "By leveraging the insights and models developed in this project, Syriatel can proactively reduce churn, improve customer satisfaction, and enhance overall business performance."
   ]
  },
  {
   "cell_type": "code",
   "execution_count": null,
   "metadata": {},
   "outputs": [],
   "source": []
  }
 ],
 "metadata": {
  "kernelspec": {
   "display_name": "Python (learn-env)",
   "language": "python",
   "name": "learn-env"
  },
  "language_info": {
   "codemirror_mode": {
    "name": "ipython",
    "version": 3
   },
   "file_extension": ".py",
   "mimetype": "text/x-python",
   "name": "python",
   "nbconvert_exporter": "python",
   "pygments_lexer": "ipython3",
   "version": "3.8.5"
  },
  "toc": {
   "base_numbering": 1,
   "nav_menu": {},
   "number_sections": true,
   "sideBar": true,
   "skip_h1_title": false,
   "title_cell": "Table of Contents",
   "title_sidebar": "Contents",
   "toc_cell": true,
   "toc_position": {
    "height": "557.6px",
    "left": "240px",
    "top": "282.562px",
    "width": "381.4px"
   },
   "toc_section_display": true,
   "toc_window_display": true
  }
 },
 "nbformat": 4,
 "nbformat_minor": 4
}
